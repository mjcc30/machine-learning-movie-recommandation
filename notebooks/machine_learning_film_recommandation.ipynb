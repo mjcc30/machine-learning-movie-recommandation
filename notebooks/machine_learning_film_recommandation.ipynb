{
 "cells": [
  {
   "attachments": {},
   "cell_type": "markdown",
   "metadata": {},
   "source": [
    "La croissance rapide de la collecte de données a contribué à la naissance à une nouvelle ère. Les données sont utilisées pour créer des systèmes plus efficaces, et c'est là que les systèmes de recommandation entrent en jeu. Les systèmes de recommandation sont un type de système de filtrage de l'information car ils améliorent la qualité des résultats de recherche et proposent des éléments plus pertinents par rapport à la recherche effectuée ou en lien avec l'historique de recherche de l'utilisateur.\n",
    "\n",
    "\n",
    "\n",
    "Ils sont utilisés pour prédire la note ou la préférence qu'un utilisateur donnerait à un élément. Pratiquement toutes les grandes entreprises technologiques les ont appliqués sous une forme ou une autre : Amazon les utilise pour suggérer des produits aux clients, YouTube les utilise pour décider quelle vidéo lire ensuite en mode de lecture automatique, et Facebook les utilise pour recommander des pages à aimer et des personnes à suivre. De plus, des entreprises comme Netflix et Spotify dépendent fortement de l'efficacité de leurs moteurs de recommandation pour leur activité et leur succès.\n",
    "\n",
    "\n",
    "\n",
    "Il existe essentiellement trois types de systèmes de recommandation :\n",
    "\n",
    "\n",
    "\n",
    "**Filtrage démographique** : Ils offrent des recommandations généralisées à chaque utilisateur, basées sur la popularité et/ou le genre des films. Le système recommande les mêmes films aux utilisateurs ayant des caractéristiques démographiques similaires. Étant donné que chaque utilisateur est différent, cette approche est considérée comme trop simpliste. L'idée de base derrière ce système est que les films plus populaires et acclamés par la critique ont une probabilité plus élevée d'être appréciés par le public moyen.\n",
    "\n",
    "\n",
    "\n",
    "**Filtrage basé sur le contenu** : Ils suggèrent des éléments similaires en fonction d'un élément spécifique. Ce système utilise les métadonnées des éléments, telles que le genre, le réalisateur, la description, les acteurs, etc., pour les films, afin de faire ces recommandations. L'idée générale derrière ces systèmes de recommandation est que si une personne aime un élément particulier, elle aimera également un élément similaire.\n",
    "\n",
    "\n",
    "\n",
    "**Filtrage collaboratif** : Ce système met en relation des personnes ayant des intérêts similaires et fournit des recommandations basées sur cette correspondance. Les filtres collaboratifs ne nécessitent pas de métadonnées sur les éléments, contrairement à leurs homologues basés sur le contenu.\n",
    "\n"
   ]
  },
  {
   "cell_type": "code",
   "execution_count": 138,
   "metadata": {},
   "outputs": [],
   "source": [
    "#!pip install pandas\n",
    "#!pip install seaborn\n",
    "#!pip install -U scikit-learn\n",
    "#!pip install -U tensorflow"
   ]
  },
  {
   "cell_type": "code",
   "execution_count": 139,
   "metadata": {},
   "outputs": [],
   "source": [
    "import pandas as pd\n",
    "import numpy as np\n",
    "import seaborn as sns"
   ]
  },
  {
   "attachments": {},
   "cell_type": "markdown",
   "metadata": {},
   "source": [
    "Le premier dataset contient les éléments suivants :\n",
    "\n",
    "**movie_id** - Un identifiant unique pour chaque film.\n",
    "\n",
    "**cast** - Le nom des acteurs principaux et secondaires.\n",
    "\n",
    "**crew** - Le nom du réalisateur, de l'éditeur, du compositeur, du scénariste, etc.\n",
    "\n",
    "Le deuxième dataset contient les éléments suivants :\n",
    "\n",
    "**budget** - Le budget alloué pour la réalisation du film.\n",
    "\n",
    "**genre** - Le genre du film : action, comédie, thriller, etc.\n",
    "\n",
    "**homepage** - Un lien vers la page d'accueil du film.\n",
    "\n",
    "**id** - Il s'agit en fait de l'identifiant du film, correspondant à celui du premier ensemble de données.\n",
    "\n",
    "**keywords** - Les mots-clés ou tags liés au film.\n",
    "\n",
    "**original_language** - La langue dans laquelle le film a été réalisé.\n",
    "\n",
    "**original_title** - Le titre original du film avant traduction ou adaptation.\n",
    "\n",
    "**overview** - Une brève description du film.\n",
    "\n",
    "**popularity** - Une quantité numérique spécifiant la popularité du film.\n",
    "\n",
    "**production_companies** - La société de production du film.\n",
    "\n",
    "**production_countries** - Le pays où le film a été produit.\n",
    "\n",
    "**release_date** - La date de sortie du film.\n",
    "\n",
    "**revenue** - Les revenus mondiaux générés par le film.\n",
    "\n",
    "**runtime** - La durée du film en minutes.\n",
    "\n",
    "**status** - \"Sorti\" ou \"Rumeur\".\n",
    "\n",
    "**tagline** - La phrase d'accroche du film.\n",
    "\n",
    "**title** - Le titre du film.\n",
    "\n",
    "**vote_average** - La moyenne des évaluations reçues par le film.\n",
    "\n",
    "**vote_count** - Le nombre de votes reçus par le film.\n",
    "\n",
    "Unissons maintenant les deux ensembles de données sur la colonne 'id'."
   ]
  },
  {
   "cell_type": "code",
   "execution_count": 140,
   "metadata": {},
   "outputs": [],
   "source": [
    "df1=pd.read_csv('../data/tmdb_5000_credits.csv')\n",
    "df2=pd.read_csv('../data/tmdb_5000_movies.csv')\n"
   ]
  },
  {
   "cell_type": "code",
   "execution_count": 141,
   "metadata": {},
   "outputs": [],
   "source": [
    "df1.columns = ['id','tittle','cast','crew']\n",
    "df2= df2.merge(df1,on='id')"
   ]
  },
  {
   "cell_type": "code",
   "execution_count": 142,
   "metadata": {},
   "outputs": [
    {
     "data": {
      "text/html": [
       "<div>\n",
       "<style scoped>\n",
       "    .dataframe tbody tr th:only-of-type {\n",
       "        vertical-align: middle;\n",
       "    }\n",
       "\n",
       "    .dataframe tbody tr th {\n",
       "        vertical-align: top;\n",
       "    }\n",
       "\n",
       "    .dataframe thead th {\n",
       "        text-align: right;\n",
       "    }\n",
       "</style>\n",
       "<table border=\"1\" class=\"dataframe\">\n",
       "  <thead>\n",
       "    <tr style=\"text-align: right;\">\n",
       "      <th></th>\n",
       "      <th>budget</th>\n",
       "      <th>genres</th>\n",
       "      <th>homepage</th>\n",
       "      <th>id</th>\n",
       "      <th>keywords</th>\n",
       "      <th>original_language</th>\n",
       "      <th>original_title</th>\n",
       "      <th>overview</th>\n",
       "      <th>popularity</th>\n",
       "      <th>production_companies</th>\n",
       "      <th>...</th>\n",
       "      <th>runtime</th>\n",
       "      <th>spoken_languages</th>\n",
       "      <th>status</th>\n",
       "      <th>tagline</th>\n",
       "      <th>title</th>\n",
       "      <th>vote_average</th>\n",
       "      <th>vote_count</th>\n",
       "      <th>tittle</th>\n",
       "      <th>cast</th>\n",
       "      <th>crew</th>\n",
       "    </tr>\n",
       "  </thead>\n",
       "  <tbody>\n",
       "    <tr>\n",
       "      <th>0</th>\n",
       "      <td>237000000</td>\n",
       "      <td>[{\"id\": 28, \"name\": \"Action\"}, {\"id\": 12, \"nam...</td>\n",
       "      <td>http://www.avatarmovie.com/</td>\n",
       "      <td>19995</td>\n",
       "      <td>[{\"id\": 1463, \"name\": \"culture clash\"}, {\"id\":...</td>\n",
       "      <td>en</td>\n",
       "      <td>Avatar</td>\n",
       "      <td>In the 22nd century, a paraplegic Marine is di...</td>\n",
       "      <td>150.437577</td>\n",
       "      <td>[{\"name\": \"Ingenious Film Partners\", \"id\": 289...</td>\n",
       "      <td>...</td>\n",
       "      <td>162.0</td>\n",
       "      <td>[{\"iso_639_1\": \"en\", \"name\": \"English\"}, {\"iso...</td>\n",
       "      <td>Released</td>\n",
       "      <td>Enter the World of Pandora.</td>\n",
       "      <td>Avatar</td>\n",
       "      <td>7.2</td>\n",
       "      <td>11800</td>\n",
       "      <td>Avatar</td>\n",
       "      <td>[{\"cast_id\": 242, \"character\": \"Jake Sully\", \"...</td>\n",
       "      <td>[{\"credit_id\": \"52fe48009251416c750aca23\", \"de...</td>\n",
       "    </tr>\n",
       "    <tr>\n",
       "      <th>1</th>\n",
       "      <td>300000000</td>\n",
       "      <td>[{\"id\": 12, \"name\": \"Adventure\"}, {\"id\": 14, \"...</td>\n",
       "      <td>http://disney.go.com/disneypictures/pirates/</td>\n",
       "      <td>285</td>\n",
       "      <td>[{\"id\": 270, \"name\": \"ocean\"}, {\"id\": 726, \"na...</td>\n",
       "      <td>en</td>\n",
       "      <td>Pirates of the Caribbean: At World's End</td>\n",
       "      <td>Captain Barbossa, long believed to be dead, ha...</td>\n",
       "      <td>139.082615</td>\n",
       "      <td>[{\"name\": \"Walt Disney Pictures\", \"id\": 2}, {\"...</td>\n",
       "      <td>...</td>\n",
       "      <td>169.0</td>\n",
       "      <td>[{\"iso_639_1\": \"en\", \"name\": \"English\"}]</td>\n",
       "      <td>Released</td>\n",
       "      <td>At the end of the world, the adventure begins.</td>\n",
       "      <td>Pirates of the Caribbean: At World's End</td>\n",
       "      <td>6.9</td>\n",
       "      <td>4500</td>\n",
       "      <td>Pirates of the Caribbean: At World's End</td>\n",
       "      <td>[{\"cast_id\": 4, \"character\": \"Captain Jack Spa...</td>\n",
       "      <td>[{\"credit_id\": \"52fe4232c3a36847f800b579\", \"de...</td>\n",
       "    </tr>\n",
       "    <tr>\n",
       "      <th>2</th>\n",
       "      <td>245000000</td>\n",
       "      <td>[{\"id\": 28, \"name\": \"Action\"}, {\"id\": 12, \"nam...</td>\n",
       "      <td>http://www.sonypictures.com/movies/spectre/</td>\n",
       "      <td>206647</td>\n",
       "      <td>[{\"id\": 470, \"name\": \"spy\"}, {\"id\": 818, \"name...</td>\n",
       "      <td>en</td>\n",
       "      <td>Spectre</td>\n",
       "      <td>A cryptic message from Bond’s past sends him o...</td>\n",
       "      <td>107.376788</td>\n",
       "      <td>[{\"name\": \"Columbia Pictures\", \"id\": 5}, {\"nam...</td>\n",
       "      <td>...</td>\n",
       "      <td>148.0</td>\n",
       "      <td>[{\"iso_639_1\": \"fr\", \"name\": \"Fran\\u00e7ais\"},...</td>\n",
       "      <td>Released</td>\n",
       "      <td>A Plan No One Escapes</td>\n",
       "      <td>Spectre</td>\n",
       "      <td>6.3</td>\n",
       "      <td>4466</td>\n",
       "      <td>Spectre</td>\n",
       "      <td>[{\"cast_id\": 1, \"character\": \"James Bond\", \"cr...</td>\n",
       "      <td>[{\"credit_id\": \"54805967c3a36829b5002c41\", \"de...</td>\n",
       "    </tr>\n",
       "    <tr>\n",
       "      <th>3</th>\n",
       "      <td>250000000</td>\n",
       "      <td>[{\"id\": 28, \"name\": \"Action\"}, {\"id\": 80, \"nam...</td>\n",
       "      <td>http://www.thedarkknightrises.com/</td>\n",
       "      <td>49026</td>\n",
       "      <td>[{\"id\": 849, \"name\": \"dc comics\"}, {\"id\": 853,...</td>\n",
       "      <td>en</td>\n",
       "      <td>The Dark Knight Rises</td>\n",
       "      <td>Following the death of District Attorney Harve...</td>\n",
       "      <td>112.312950</td>\n",
       "      <td>[{\"name\": \"Legendary Pictures\", \"id\": 923}, {\"...</td>\n",
       "      <td>...</td>\n",
       "      <td>165.0</td>\n",
       "      <td>[{\"iso_639_1\": \"en\", \"name\": \"English\"}]</td>\n",
       "      <td>Released</td>\n",
       "      <td>The Legend Ends</td>\n",
       "      <td>The Dark Knight Rises</td>\n",
       "      <td>7.6</td>\n",
       "      <td>9106</td>\n",
       "      <td>The Dark Knight Rises</td>\n",
       "      <td>[{\"cast_id\": 2, \"character\": \"Bruce Wayne / Ba...</td>\n",
       "      <td>[{\"credit_id\": \"52fe4781c3a36847f81398c3\", \"de...</td>\n",
       "    </tr>\n",
       "    <tr>\n",
       "      <th>4</th>\n",
       "      <td>260000000</td>\n",
       "      <td>[{\"id\": 28, \"name\": \"Action\"}, {\"id\": 12, \"nam...</td>\n",
       "      <td>http://movies.disney.com/john-carter</td>\n",
       "      <td>49529</td>\n",
       "      <td>[{\"id\": 818, \"name\": \"based on novel\"}, {\"id\":...</td>\n",
       "      <td>en</td>\n",
       "      <td>John Carter</td>\n",
       "      <td>John Carter is a war-weary, former military ca...</td>\n",
       "      <td>43.926995</td>\n",
       "      <td>[{\"name\": \"Walt Disney Pictures\", \"id\": 2}]</td>\n",
       "      <td>...</td>\n",
       "      <td>132.0</td>\n",
       "      <td>[{\"iso_639_1\": \"en\", \"name\": \"English\"}]</td>\n",
       "      <td>Released</td>\n",
       "      <td>Lost in our world, found in another.</td>\n",
       "      <td>John Carter</td>\n",
       "      <td>6.1</td>\n",
       "      <td>2124</td>\n",
       "      <td>John Carter</td>\n",
       "      <td>[{\"cast_id\": 5, \"character\": \"John Carter\", \"c...</td>\n",
       "      <td>[{\"credit_id\": \"52fe479ac3a36847f813eaa3\", \"de...</td>\n",
       "    </tr>\n",
       "  </tbody>\n",
       "</table>\n",
       "<p>5 rows × 23 columns</p>\n",
       "</div>"
      ],
      "text/plain": [
       "      budget                                             genres  \\\n",
       "0  237000000  [{\"id\": 28, \"name\": \"Action\"}, {\"id\": 12, \"nam...   \n",
       "1  300000000  [{\"id\": 12, \"name\": \"Adventure\"}, {\"id\": 14, \"...   \n",
       "2  245000000  [{\"id\": 28, \"name\": \"Action\"}, {\"id\": 12, \"nam...   \n",
       "3  250000000  [{\"id\": 28, \"name\": \"Action\"}, {\"id\": 80, \"nam...   \n",
       "4  260000000  [{\"id\": 28, \"name\": \"Action\"}, {\"id\": 12, \"nam...   \n",
       "\n",
       "                                       homepage      id  \\\n",
       "0                   http://www.avatarmovie.com/   19995   \n",
       "1  http://disney.go.com/disneypictures/pirates/     285   \n",
       "2   http://www.sonypictures.com/movies/spectre/  206647   \n",
       "3            http://www.thedarkknightrises.com/   49026   \n",
       "4          http://movies.disney.com/john-carter   49529   \n",
       "\n",
       "                                            keywords original_language  \\\n",
       "0  [{\"id\": 1463, \"name\": \"culture clash\"}, {\"id\":...                en   \n",
       "1  [{\"id\": 270, \"name\": \"ocean\"}, {\"id\": 726, \"na...                en   \n",
       "2  [{\"id\": 470, \"name\": \"spy\"}, {\"id\": 818, \"name...                en   \n",
       "3  [{\"id\": 849, \"name\": \"dc comics\"}, {\"id\": 853,...                en   \n",
       "4  [{\"id\": 818, \"name\": \"based on novel\"}, {\"id\":...                en   \n",
       "\n",
       "                             original_title  \\\n",
       "0                                    Avatar   \n",
       "1  Pirates of the Caribbean: At World's End   \n",
       "2                                   Spectre   \n",
       "3                     The Dark Knight Rises   \n",
       "4                               John Carter   \n",
       "\n",
       "                                            overview  popularity  \\\n",
       "0  In the 22nd century, a paraplegic Marine is di...  150.437577   \n",
       "1  Captain Barbossa, long believed to be dead, ha...  139.082615   \n",
       "2  A cryptic message from Bond’s past sends him o...  107.376788   \n",
       "3  Following the death of District Attorney Harve...  112.312950   \n",
       "4  John Carter is a war-weary, former military ca...   43.926995   \n",
       "\n",
       "                                production_companies  ... runtime  \\\n",
       "0  [{\"name\": \"Ingenious Film Partners\", \"id\": 289...  ...   162.0   \n",
       "1  [{\"name\": \"Walt Disney Pictures\", \"id\": 2}, {\"...  ...   169.0   \n",
       "2  [{\"name\": \"Columbia Pictures\", \"id\": 5}, {\"nam...  ...   148.0   \n",
       "3  [{\"name\": \"Legendary Pictures\", \"id\": 923}, {\"...  ...   165.0   \n",
       "4        [{\"name\": \"Walt Disney Pictures\", \"id\": 2}]  ...   132.0   \n",
       "\n",
       "                                    spoken_languages    status  \\\n",
       "0  [{\"iso_639_1\": \"en\", \"name\": \"English\"}, {\"iso...  Released   \n",
       "1           [{\"iso_639_1\": \"en\", \"name\": \"English\"}]  Released   \n",
       "2  [{\"iso_639_1\": \"fr\", \"name\": \"Fran\\u00e7ais\"},...  Released   \n",
       "3           [{\"iso_639_1\": \"en\", \"name\": \"English\"}]  Released   \n",
       "4           [{\"iso_639_1\": \"en\", \"name\": \"English\"}]  Released   \n",
       "\n",
       "                                          tagline  \\\n",
       "0                     Enter the World of Pandora.   \n",
       "1  At the end of the world, the adventure begins.   \n",
       "2                           A Plan No One Escapes   \n",
       "3                                 The Legend Ends   \n",
       "4            Lost in our world, found in another.   \n",
       "\n",
       "                                      title vote_average vote_count  \\\n",
       "0                                    Avatar          7.2      11800   \n",
       "1  Pirates of the Caribbean: At World's End          6.9       4500   \n",
       "2                                   Spectre          6.3       4466   \n",
       "3                     The Dark Knight Rises          7.6       9106   \n",
       "4                               John Carter          6.1       2124   \n",
       "\n",
       "                                     tittle  \\\n",
       "0                                    Avatar   \n",
       "1  Pirates of the Caribbean: At World's End   \n",
       "2                                   Spectre   \n",
       "3                     The Dark Knight Rises   \n",
       "4                               John Carter   \n",
       "\n",
       "                                                cast  \\\n",
       "0  [{\"cast_id\": 242, \"character\": \"Jake Sully\", \"...   \n",
       "1  [{\"cast_id\": 4, \"character\": \"Captain Jack Spa...   \n",
       "2  [{\"cast_id\": 1, \"character\": \"James Bond\", \"cr...   \n",
       "3  [{\"cast_id\": 2, \"character\": \"Bruce Wayne / Ba...   \n",
       "4  [{\"cast_id\": 5, \"character\": \"John Carter\", \"c...   \n",
       "\n",
       "                                                crew  \n",
       "0  [{\"credit_id\": \"52fe48009251416c750aca23\", \"de...  \n",
       "1  [{\"credit_id\": \"52fe4232c3a36847f800b579\", \"de...  \n",
       "2  [{\"credit_id\": \"54805967c3a36829b5002c41\", \"de...  \n",
       "3  [{\"credit_id\": \"52fe4781c3a36847f81398c3\", \"de...  \n",
       "4  [{\"credit_id\": \"52fe479ac3a36847f813eaa3\", \"de...  \n",
       "\n",
       "[5 rows x 23 columns]"
      ]
     },
     "execution_count": 142,
     "metadata": {},
     "output_type": "execute_result"
    }
   ],
   "source": [
    "df2.head(5)"
   ]
  },
  {
   "attachments": {
    "image.png": {
     "image/png": "[encoded data removed]"
    }
   },
   "cell_type": "markdown",
   "metadata": {},
   "source": [
    "- # Filtrage démographique\n",
    "\n",
    "Avant de commencer nous avons besoin :\n",
    "\n",
    "- D'une métrique pour évaluer ou noter les films\n",
    "- Calculer le score pour chaque film\n",
    "- Trier les scores et recommander le film le mieux noté aux utilisateurs.\n",
    "\n",
    "Nous pouvons utiliser les notes moyennes des films comme score, mais cela ne serait pas assez équitable, car un film ayant une note moyenne de 8,9 avec seulement 3 votes ne peut pas être considéré comme meilleur qu'un film ayant une note moyenne de 7,8 mais avec 40 votes. Donc, j'utiliserai le classement pondéré d'IMDB (wr), qui est donné par :\n",
    "\n",
    "![image.png](attachment:image.png)\n",
    "\n",
    "où,\n",
    "\n",
    "v est le nombre de votes pour le film ;\n",
    "m est le nombre minimum de votes requis pour figurer dans le classement ;\n",
    "R est la note moyenne du film ; et\n",
    "C est la note moyenne de l'ensemble du rapport\n",
    "Nous avons déjà v (vote_count) et R (vote_average) et C peut être calculé comme suit :"
   ]
  },
  {
   "cell_type": "code",
   "execution_count": 143,
   "metadata": {},
   "outputs": [
    {
     "data": {
      "text/plain": [
       "6.092171559442011"
      ]
     },
     "execution_count": 143,
     "metadata": {},
     "output_type": "execute_result"
    }
   ],
   "source": [
    "C= df2['vote_average'].mean()\n",
    "C"
   ]
  },
  {
   "attachments": {},
   "cell_type": "markdown",
   "metadata": {},
   "source": [
    "Ainsi, la note moyenne de tous les films est d'environ 6 sur une échelle de 10. La prochaine étape consiste à déterminer une valeur appropriée pour m, le nombre minimum de votes requis pour figurer dans le classement. Nous utiliserons le 90e percentile comme seuil. En d'autres termes, pour qu'un film figure dans le classement, il doit avoir plus de votes que au moins 90% des films de la liste."
   ]
  },
  {
   "cell_type": "code",
   "execution_count": 144,
   "metadata": {},
   "outputs": [
    {
     "data": {
      "text/plain": [
       "1838.4000000000015"
      ]
     },
     "execution_count": 144,
     "metadata": {},
     "output_type": "execute_result"
    }
   ],
   "source": [
    "m= df2['vote_count'].quantile(0.9)\n",
    "m"
   ]
  },
  {
   "attachments": {},
   "cell_type": "markdown",
   "metadata": {},
   "source": [
    "Maintenant, nous pouvons filtrer les films qui remplissent les critères du classement."
   ]
  },
  {
   "cell_type": "code",
   "execution_count": 145,
   "metadata": {},
   "outputs": [
    {
     "data": {
      "text/plain": [
       "(481, 23)"
      ]
     },
     "execution_count": 145,
     "metadata": {},
     "output_type": "execute_result"
    }
   ],
   "source": [
    "q_movies = df2.copy().loc[df2['vote_count'] >= m]\n",
    "q_movies.shape"
   ]
  },
  {
   "attachments": {},
   "cell_type": "markdown",
   "metadata": {},
   "source": [
    "Nous constatons qu'il y a 481 films qui remplissent les critères pour figurer dans cette liste. Maintenant, nous devons calculer notre métrique pour chaque film qualifié. Pour ce faire, nous allons définir une fonction, weighted_rating(), et définir une nouvelle caractéristique \"score\", dont nous calculerons la valeur en appliquant cette fonction à notre df2Frame des films qualifiés."
   ]
  },
  {
   "cell_type": "code",
   "execution_count": 146,
   "metadata": {},
   "outputs": [],
   "source": [
    "def weighted_rating(x, m=m, C=C):\n",
    "    v = x['vote_count']\n",
    "    R = x['vote_average']\n",
    "    # Calcul basé sur la formule IMDB\n",
    "    return (v/(v+m) * R) + (m/(m+v) * C)\n"
   ]
  },
  {
   "cell_type": "code",
   "execution_count": 147,
   "metadata": {},
   "outputs": [],
   "source": [
    "#Définir une nouvelle caractéristique 'score' et calculer sa valeur avec la fonction weighted_rating()\n",
    "q_movies['score'] = q_movies.apply(weighted_rating, axis=1)"
   ]
  },
  {
   "cell_type": "code",
   "execution_count": 148,
   "metadata": {},
   "outputs": [
    {
     "data": {
      "text/html": [
       "<div>\n",
       "<style scoped>\n",
       "    .dataframe tbody tr th:only-of-type {\n",
       "        vertical-align: middle;\n",
       "    }\n",
       "\n",
       "    .dataframe tbody tr th {\n",
       "        vertical-align: top;\n",
       "    }\n",
       "\n",
       "    .dataframe thead th {\n",
       "        text-align: right;\n",
       "    }\n",
       "</style>\n",
       "<table border=\"1\" class=\"dataframe\">\n",
       "  <thead>\n",
       "    <tr style=\"text-align: right;\">\n",
       "      <th></th>\n",
       "      <th>title</th>\n",
       "      <th>vote_count</th>\n",
       "      <th>vote_average</th>\n",
       "      <th>score</th>\n",
       "    </tr>\n",
       "  </thead>\n",
       "  <tbody>\n",
       "    <tr>\n",
       "      <th>1881</th>\n",
       "      <td>The Shawshank Redemption</td>\n",
       "      <td>8205</td>\n",
       "      <td>8.5</td>\n",
       "      <td>8.059258</td>\n",
       "    </tr>\n",
       "    <tr>\n",
       "      <th>662</th>\n",
       "      <td>Fight Club</td>\n",
       "      <td>9413</td>\n",
       "      <td>8.3</td>\n",
       "      <td>7.939256</td>\n",
       "    </tr>\n",
       "    <tr>\n",
       "      <th>65</th>\n",
       "      <td>The Dark Knight</td>\n",
       "      <td>12002</td>\n",
       "      <td>8.2</td>\n",
       "      <td>7.920020</td>\n",
       "    </tr>\n",
       "    <tr>\n",
       "      <th>3232</th>\n",
       "      <td>Pulp Fiction</td>\n",
       "      <td>8428</td>\n",
       "      <td>8.3</td>\n",
       "      <td>7.904645</td>\n",
       "    </tr>\n",
       "    <tr>\n",
       "      <th>96</th>\n",
       "      <td>Inception</td>\n",
       "      <td>13752</td>\n",
       "      <td>8.1</td>\n",
       "      <td>7.863239</td>\n",
       "    </tr>\n",
       "    <tr>\n",
       "      <th>3337</th>\n",
       "      <td>The Godfather</td>\n",
       "      <td>5893</td>\n",
       "      <td>8.4</td>\n",
       "      <td>7.851236</td>\n",
       "    </tr>\n",
       "    <tr>\n",
       "      <th>95</th>\n",
       "      <td>Interstellar</td>\n",
       "      <td>10867</td>\n",
       "      <td>8.1</td>\n",
       "      <td>7.809479</td>\n",
       "    </tr>\n",
       "    <tr>\n",
       "      <th>809</th>\n",
       "      <td>Forrest Gump</td>\n",
       "      <td>7927</td>\n",
       "      <td>8.2</td>\n",
       "      <td>7.803188</td>\n",
       "    </tr>\n",
       "    <tr>\n",
       "      <th>329</th>\n",
       "      <td>The Lord of the Rings: The Return of the King</td>\n",
       "      <td>8064</td>\n",
       "      <td>8.1</td>\n",
       "      <td>7.727243</td>\n",
       "    </tr>\n",
       "    <tr>\n",
       "      <th>1990</th>\n",
       "      <td>The Empire Strikes Back</td>\n",
       "      <td>5879</td>\n",
       "      <td>8.2</td>\n",
       "      <td>7.697884</td>\n",
       "    </tr>\n",
       "  </tbody>\n",
       "</table>\n",
       "</div>"
      ],
      "text/plain": [
       "                                              title  vote_count  vote_average  \\\n",
       "1881                       The Shawshank Redemption        8205           8.5   \n",
       "662                                      Fight Club        9413           8.3   \n",
       "65                                  The Dark Knight       12002           8.2   \n",
       "3232                                   Pulp Fiction        8428           8.3   \n",
       "96                                        Inception       13752           8.1   \n",
       "3337                                  The Godfather        5893           8.4   \n",
       "95                                     Interstellar       10867           8.1   \n",
       "809                                    Forrest Gump        7927           8.2   \n",
       "329   The Lord of the Rings: The Return of the King        8064           8.1   \n",
       "1990                        The Empire Strikes Back        5879           8.2   \n",
       "\n",
       "         score  \n",
       "1881  8.059258  \n",
       "662   7.939256  \n",
       "65    7.920020  \n",
       "3232  7.904645  \n",
       "96    7.863239  \n",
       "3337  7.851236  \n",
       "95    7.809479  \n",
       "809   7.803188  \n",
       "329   7.727243  \n",
       "1990  7.697884  "
      ]
     },
     "execution_count": 148,
     "metadata": {},
     "output_type": "execute_result"
    }
   ],
   "source": [
    "#Trier les films en fonction du score calculé ci-dessus.\n",
    "q_movies = q_movies.sort_values('score', ascending=False)\n",
    "\n",
    "#Afficher les 15 meilleurs films.\n",
    "q_movies[['title', 'vote_count', 'vote_average', 'score']].head(10)"
   ]
  },
  {
   "attachments": {},
   "cell_type": "markdown",
   "metadata": {},
   "source": [
    "\n",
    "Nous avons créé notre premier système de recommandation (bien que très basique). Sous l'onglet \"Trending Now\" de ces systèmes, nous trouvons des films très populaires, et ils peuvent simplement être obtenus en triant le jeu de données par la colonne \"popularité\"."
   ]
  },
  {
   "cell_type": "code",
   "execution_count": 149,
   "metadata": {},
   "outputs": [
    {
     "data": {
      "text/plain": [
       "Text(0.5, 1.0, 'Popular Movies')"
      ]
     },
     "execution_count": 149,
     "metadata": {},
     "output_type": "execute_result"
    },
    {
     "data": {
      "image/png": "[encoded data removed]",
      "text/plain": [
       "<Figure size 864x288 with 1 Axes>"
      ]
     },
     "metadata": {
      "needs_background": "light"
     },
     "output_type": "display_data"
    }
   ],
   "source": [
    "\n",
    "pop= df2.sort_values('popularity', ascending=False)\n",
    "import matplotlib.pyplot as plt\n",
    "plt.figure(figsize=(12,4))\n",
    "\n",
    "plt.barh(pop['title'].head(6),pop['popularity'].head(6), align='center',\n",
    "        color='skyblue')\n",
    "plt.gca().invert_yaxis()\n",
    "plt.xlabel(\"Popularity\")\n",
    "plt.title(\"Popular Movies\")"
   ]
  },
  {
   "attachments": {
    "image.png": {
     "image/png": "[encoded data removed]"
    }
   },
   "cell_type": "markdown",
   "metadata": {},
   "source": [
    "Il est important de noter que ces recommandations démographiques fournissent un classement général de films recommandés à tous les utilisateurs. Elles ne sont pas sensibles aux intérêts et aux goûts d'un utilisateur particulier. C'est à ce moment-là que nous passons à un système plus raffiné : la recommandation basée sur le contenu.\n",
    "\n",
    "- # Recommandation basée sur le contenu\n",
    "\n",
    "Dans ce système de recommandation, le contenu du film (synopsis, casting, équipe technique, mots-clés, slogan, etc.) est utilisé pour trouver sa similarité avec d'autres films. Ensuite, les films les plus susceptibles d'être similaires sont recommandés.\n",
    "\n",
    "![image.png](attachment:image.png)\n",
    "\n",
    "- # Recommandation basée sur la description de l'intrigue\n",
    "\n",
    "Nous allons calculer des scores de similarité entre tous les films en fonction de leurs descriptions d'intrigue et recommander des films en fonction de ce score de similarité. La description de l'intrigue est donnée dans la fonction \"overview\" de notre ensemble de données. Jetons un coup d'œil aux données..."
   ]
  },
  {
   "cell_type": "code",
   "execution_count": 150,
   "metadata": {},
   "outputs": [
    {
     "data": {
      "text/plain": [
       "0    In the 22nd century, a paraplegic Marine is di...\n",
       "1    Captain Barbossa, long believed to be dead, ha...\n",
       "2    A cryptic message from Bond’s past sends him o...\n",
       "3    Following the death of District Attorney Harve...\n",
       "4    John Carter is a war-weary, former military ca...\n",
       "Name: overview, dtype: object"
      ]
     },
     "execution_count": 150,
     "metadata": {},
     "output_type": "execute_result"
    }
   ],
   "source": [
    "df2['overview'].head(5)"
   ]
  },
  {
   "attachments": {},
   "cell_type": "markdown",
   "metadata": {},
   "source": [
    "La fréquence des termes (TF) est la fréquence relative d'un mot dans un document, calculée en divisant le nombre d'occurrences du terme par le nombre total d'occurrences de tous les termes dans le document. L'inverse de la fréquence du document (IDF) est une mesure de l'importance relative d'un terme dans l'ensemble du corpus, calculée en prenant le logarithme du nombre total de documents divisé par le nombre de documents contenant le terme.\n",
    "\n",
    "En combinant TF et IDF, nous obtenons une mesure de l'importance globale de chaque mot dans chaque document. Cela nous permet de construire une matrice TF-IDF où chaque colonne représente un mot du vocabulaire des descriptions d'intrigue, et chaque ligne représente un film.\n",
    "\n",
    "L'utilisation de TF-IDF nous permet de réduire l'importance des mots fréquents dans les descriptions d'intrigue qui n'apportent pas beaucoup d'informations distinctives. Ainsi, les mots qui apparaissent fréquemment dans de nombreux films auront moins de poids lors du calcul de la similarité entre les films.\n",
    "\n",
    "Heureusement, la bibliothèque scikit-learn propose une classe pratique appelée TfIdfVectorizer qui nous permet de calculer facilement la matrice TF-IDF en quelques lignes de code. Cela simplifie considérablement le processus et nous permet de passer rapidement à l'étape suivante de recommandation basée sur le contenu."
   ]
  },
  {
   "cell_type": "code",
   "execution_count": 151,
   "metadata": {},
   "outputs": [
    {
     "data": {
      "text/plain": [
       "(4803, 20978)"
      ]
     },
     "execution_count": 151,
     "metadata": {},
     "output_type": "execute_result"
    }
   ],
   "source": [
    "#Import TfIdfVectorizer from scikit-learn\n",
    "from sklearn.feature_extraction.text import TfidfVectorizer\n",
    "\n",
    "#Definir un TF-IDF Vectorizer Objet. Suprimer tout les mots anglais du style 'the', 'a'\n",
    "tfidf = TfidfVectorizer(stop_words='english')\n",
    "\n",
    "#Renplacer NaN avec des chaine de caractere vide\n",
    "df2['overview'] = df2['overview'].fillna('')\n",
    "\n",
    "#Construire la matrice TF-IDF en adaptant et en transformant les données à l'aide de la classe TfidfVectorizer de sklearn \n",
    "tfidf_matrix = tfidf.fit_transform(df2['overview'])\n",
    "\n",
    "#Sortie de la tfidf_matrix\n",
    "tfidf_matrix.shape"
   ]
  },
  {
   "attachments": {
    "image.png": {
     "image/png": "[encoded data removed]"
    }
   },
   "cell_type": "markdown",
   "metadata": {},
   "source": [
    "\n",
    "Après avoir construit notre matrice TF-IDF, nous constatons qu'elle contient plus de 20 000 mots différents pour décrire les 4 800 films de notre ensemble de données.\n",
    "\n",
    "Avec cette matrice en main, nous pouvons désormais calculer un score de similarité. Il existe plusieurs mesures possibles, telles que la similarité euclidienne, la similarité de Pearson et la similarité cosinus. Il n'y a pas de réponse définitive quant à la meilleure mesure à utiliser. Différentes mesures fonctionnent bien dans différents scénarios, il est donc souvent judicieux d'expérimenter différentes métriques.\n",
    "\n",
    "Dans notre cas, nous utiliserons la similarité cosinus pour calculer une quantité numérique qui représente la similarité entre deux films. Nous utilisons la similarité cosinus car elle est indépendante de la magnitude et relativement facile et rapide à calculer. Mathématiquement, elle est définie comme suit :\n",
    "\n",
    "![image.png](attachment:image.png)\n",
    "\n",
    "Étant donné que nous avons utilisé le vectoriseur TF-IDF, le produit scalaire entre deux vecteurs nous donnera directement le score de similarité cosinus. Par conséquent, nous utiliserons la fonction linear_kernel() de la bibliothèque scikit-learn au lieu de cosine_similarities(), car elle est plus rapide.\n",
    "\n",
    "Maintenant, nous sommes prêts à passer à l'étape suivante, qui consiste à calculer la similarité entre tous les films de notre ensemble de données."
   ]
  },
  {
   "cell_type": "code",
   "execution_count": 152,
   "metadata": {},
   "outputs": [],
   "source": [
    "# Import linear_kernel\n",
    "from sklearn.metrics.pairwise import linear_kernel\n",
    "\n",
    "# Calculez la matrice de similarité cosinus\n",
    "cosine_sim = linear_kernel(tfidf_matrix, tfidf_matrix)"
   ]
  },
  {
   "attachments": {},
   "cell_type": "markdown",
   "metadata": {},
   "source": [
    "\n",
    "Nous allons définir une fonction qui prend en entrée le titre d'un film et renvoie une liste des 10 films les plus similaires. Pour cela, nous avons besoin d'une correspondance inversée des titres de films et des indices du DataFrame. En d'autres termes, nous avons besoin d'un mécanisme permettant d'identifier l'indice d'un film dans notre DataFrame de métadonnées, en fonction de son titre."
   ]
  },
  {
   "cell_type": "code",
   "execution_count": 153,
   "metadata": {},
   "outputs": [],
   "source": [
    "#Création d'une correspondance inversée des indices et des titres de films.\n",
    "indices = pd.Series(df2.index, index=df2['title']).drop_duplicates()"
   ]
  },
  {
   "attachments": {},
   "cell_type": "markdown",
   "metadata": {},
   "source": [
    "Nous sommes maintenant en mesure de définir notre fonction de recommandation. Voici les étapes que nous allons suivre :\n",
    "\n",
    "- Obtenir l'indice du film à partir de son titre.\n",
    "\n",
    "- Obtenir la liste des scores de similarité cosinus pour ce film particulier avec tous les autres films. \n",
    "\n",
    "- Convertir cette liste en une liste de tuples où le premier élément est la position du film et le deuxième élément est le score de similarité.\n",
    "\n",
    "- Trier la liste de tuples précédente en fonction des scores de similarité ; c'est-à-dire le deuxième élément.\n",
    "\n",
    "- Obtenir les 10 premiers éléments de cette liste. Ignorer le premier élément car il fait référence au film lui-même (le film le plus similaire à un film donné est le film lui-même).\n",
    "\n",
    "- Retourner les titres correspondant aux indices des éléments les plus similaires."
   ]
  },
  {
   "cell_type": "code",
   "execution_count": 154,
   "metadata": {},
   "outputs": [],
   "source": [
    "# Fonction qui prend en entrée le titre d'un film et renvoie les films les plus similaires\n",
    "def get_recommendations(title, cosine_sim=cosine_sim):\n",
    "    # Obtenir les scores de similarité entre chaque paire de films, y compris le film donné\n",
    "    idx = indices[title]\n",
    "\n",
    "    # Obtenir les scores de similarité par paire de tous les films avec ce film\n",
    "    sim_scores = list(enumerate(cosine_sim[idx]))\n",
    "\n",
    "    # Trier les films en fonction des scores de similarité\n",
    "    sim_scores = sorted(sim_scores, key=lambda x: x[1], reverse=True)\n",
    "\n",
    "    # Obtenir le top 10 des meilleurs films similaires\n",
    "    sim_scores = sim_scores[1:11]\n",
    "\n",
    "    # Obtenir les indices de ces films\n",
    "    movie_indices = [i[0] for i in sim_scores]\n",
    "\n",
    "    # Retourner le top 10 des meilleurs films similaires\n",
    "    return df2['title'].iloc[movie_indices]"
   ]
  },
  {
   "cell_type": "code",
   "execution_count": 155,
   "metadata": {},
   "outputs": [
    {
     "data": {
      "text/plain": [
       "65                              The Dark Knight\n",
       "299                              Batman Forever\n",
       "428                              Batman Returns\n",
       "1359                                     Batman\n",
       "3854    Batman: The Dark Knight Returns, Part 2\n",
       "119                               Batman Begins\n",
       "2507                                  Slow Burn\n",
       "9            Batman v Superman: Dawn of Justice\n",
       "1181                                        JFK\n",
       "210                              Batman & Robin\n",
       "Name: title, dtype: object"
      ]
     },
     "execution_count": 155,
     "metadata": {},
     "output_type": "execute_result"
    }
   ],
   "source": [
    "get_recommendations('The Dark Knight Rises')"
   ]
  },
  {
   "cell_type": "code",
   "execution_count": 156,
   "metadata": {},
   "outputs": [
    {
     "data": {
      "text/plain": [
       "7               Avengers: Age of Ultron\n",
       "3144                            Plastic\n",
       "1715                            Timecop\n",
       "4124                 This Thing of Ours\n",
       "3311              Thank You for Smoking\n",
       "3033                      The Corruptor\n",
       "588     Wall Street: Money Never Sleeps\n",
       "2136         Team America: World Police\n",
       "1468                       The Fountain\n",
       "1286                        Snowpiercer\n",
       "Name: title, dtype: object"
      ]
     },
     "execution_count": 156,
     "metadata": {},
     "output_type": "execute_result"
    }
   ],
   "source": [
    "get_recommendations('The Avengers')"
   ]
  },
  {
   "attachments": {},
   "cell_type": "markdown",
   "metadata": {},
   "source": [
    "Bien que notre système ait fait un travail décent pour trouver des films avec des descriptions de scénario similaires, la qualité des recommandations n'est pas très bonne. \"The Dark Knight Rises\" renvoie tous les films de Batman, alors qu'il est plus probable que les personnes qui ont aimé ce film soient plus enclines à apprécier d'autres films de Christopher Nolan. C'est quelque chose qui ne peut pas être capturé par le système actuel.\n",
    "\n",
    "- # Suggestions basé sur les crédits, les genres et les mots-clés:\n",
    "\n",
    "Il va sans dire que la qualité de notre recommandateur serait améliorée avec l'utilisation de meilleures métadonnées. C'est exactement ce que nous allons faire dans cette section. Nous allons construire un recommandateur basé sur les métadonnées suivantes : les 3 principaux acteurs, le réalisateur, les genres associés et les mots-clés du scénario du film.\n",
    "\n",
    "À partir des fonctionnalités de distribution, d'équipe et de mots-clés, nous devons extraire les trois acteurs les plus importants, le réalisateur et les mots-clés associés à ce film. Pour le moment, nos données sont présentes sous forme de listes \"stringifiées\", nous devons les convertir en une structure sûre et utilisable."
   ]
  },
  {
   "cell_type": "code",
   "execution_count": 157,
   "metadata": {},
   "outputs": [],
   "source": [
    "from ast import literal_eval\n",
    "\n",
    "features = ['cast', 'crew', 'keywords', 'genres']\n",
    "for feature in features:\n",
    "    df2[feature] = df2[feature].apply(literal_eval)"
   ]
  },
  {
   "attachments": {},
   "cell_type": "markdown",
   "metadata": {},
   "source": [
    "\n",
    "Ensuite, nous écrirons des fonctions qui nous aideront à extraire les informations requises de chaque fonctionnalité."
   ]
  },
  {
   "cell_type": "code",
   "execution_count": 158,
   "metadata": {},
   "outputs": [],
   "source": [
    "# Obtenir le nom du réalisateur à partir de la fonctionnalité \"crew\". Si le réalisateur n'est pas répertorié, retournez NaN\n",
    "def get_director(x):\n",
    "    for i in x:\n",
    "        if i['job'] == 'Director':\n",
    "            return i['name']\n",
    "    return np.nan"
   ]
  },
  {
   "cell_type": "code",
   "execution_count": 159,
   "metadata": {},
   "outputs": [],
   "source": [
    "# Renvoie les 3 premiers éléments de la liste ou la liste entière, selon celle qui est la plus grande\n",
    "def get_list(x):\n",
    "    if isinstance(x, list):\n",
    "        names = [i['name'] for i in x]\n",
    "        if len(names) > 3:\n",
    "            names = names[:3]\n",
    "        return names\n",
    "\n",
    "    return []"
   ]
  },
  {
   "cell_type": "code",
   "execution_count": 160,
   "metadata": {},
   "outputs": [],
   "source": [
    "# Définissez de nouvelles fonctionnalités pour le réalisateur (director), la distribution (cast), les genres (genres) et les mots-clés (keywords) dans une forme adaptée\n",
    "df2['director'] = df2['crew'].apply(get_director)\n",
    "\n",
    "features = ['cast', 'keywords', 'genres']\n",
    "for feature in features:\n",
    "    df2[feature] = df2[feature].apply(get_list)"
   ]
  },
  {
   "cell_type": "code",
   "execution_count": 161,
   "metadata": {},
   "outputs": [
    {
     "data": {
      "text/html": [
       "<div>\n",
       "<style scoped>\n",
       "    .dataframe tbody tr th:only-of-type {\n",
       "        vertical-align: middle;\n",
       "    }\n",
       "\n",
       "    .dataframe tbody tr th {\n",
       "        vertical-align: top;\n",
       "    }\n",
       "\n",
       "    .dataframe thead th {\n",
       "        text-align: right;\n",
       "    }\n",
       "</style>\n",
       "<table border=\"1\" class=\"dataframe\">\n",
       "  <thead>\n",
       "    <tr style=\"text-align: right;\">\n",
       "      <th></th>\n",
       "      <th>title</th>\n",
       "      <th>cast</th>\n",
       "      <th>director</th>\n",
       "      <th>keywords</th>\n",
       "      <th>genres</th>\n",
       "    </tr>\n",
       "  </thead>\n",
       "  <tbody>\n",
       "    <tr>\n",
       "      <th>0</th>\n",
       "      <td>Avatar</td>\n",
       "      <td>[Sam Worthington, Zoe Saldana, Sigourney Weaver]</td>\n",
       "      <td>James Cameron</td>\n",
       "      <td>[culture clash, future, space war]</td>\n",
       "      <td>[Action, Adventure, Fantasy]</td>\n",
       "    </tr>\n",
       "    <tr>\n",
       "      <th>1</th>\n",
       "      <td>Pirates of the Caribbean: At World's End</td>\n",
       "      <td>[Johnny Depp, Orlando Bloom, Keira Knightley]</td>\n",
       "      <td>Gore Verbinski</td>\n",
       "      <td>[ocean, drug abuse, exotic island]</td>\n",
       "      <td>[Adventure, Fantasy, Action]</td>\n",
       "    </tr>\n",
       "    <tr>\n",
       "      <th>2</th>\n",
       "      <td>Spectre</td>\n",
       "      <td>[Daniel Craig, Christoph Waltz, Léa Seydoux]</td>\n",
       "      <td>Sam Mendes</td>\n",
       "      <td>[spy, based on novel, secret agent]</td>\n",
       "      <td>[Action, Adventure, Crime]</td>\n",
       "    </tr>\n",
       "  </tbody>\n",
       "</table>\n",
       "</div>"
      ],
      "text/plain": [
       "                                      title  \\\n",
       "0                                    Avatar   \n",
       "1  Pirates of the Caribbean: At World's End   \n",
       "2                                   Spectre   \n",
       "\n",
       "                                               cast        director  \\\n",
       "0  [Sam Worthington, Zoe Saldana, Sigourney Weaver]   James Cameron   \n",
       "1     [Johnny Depp, Orlando Bloom, Keira Knightley]  Gore Verbinski   \n",
       "2      [Daniel Craig, Christoph Waltz, Léa Seydoux]      Sam Mendes   \n",
       "\n",
       "                              keywords                        genres  \n",
       "0   [culture clash, future, space war]  [Action, Adventure, Fantasy]  \n",
       "1   [ocean, drug abuse, exotic island]  [Adventure, Fantasy, Action]  \n",
       "2  [spy, based on novel, secret agent]    [Action, Adventure, Crime]  "
      ]
     },
     "execution_count": 161,
     "metadata": {},
     "output_type": "execute_result"
    }
   ],
   "source": [
    "# Afficher les nouvelles caractéristiques des trois premiers films\n",
    "df2[['title', 'cast', 'director', 'keywords', 'genres']].head(3)"
   ]
  },
  {
   "attachments": {},
   "cell_type": "markdown",
   "metadata": {},
   "source": [
    "\n",
    "La prochaine étape consisterait à convertir les noms et les instances de mots-clés en minuscules et à supprimer tous les espaces entre eux. Cela est fait afin que notre vectoriseur ne considère pas Johnny de \"Johnny Depp\" et \"Johnny Galecki\" comme étant le même."
   ]
  },
  {
   "cell_type": "code",
   "execution_count": 162,
   "metadata": {},
   "outputs": [],
   "source": [
    "# Fonction pour convertir toutes les chaînes de caractères en minuscules et supprimer les espaces des noms\n",
    "def clean_data(x):\n",
    "    if isinstance(x, list):\n",
    "        return [str.lower(i.replace(\" \", \"\")) for i in x]\n",
    "    else:\n",
    "        if isinstance(x, str):\n",
    "            return str.lower(x.replace(\" \", \"\"))\n",
    "        else:\n",
    "            return ''"
   ]
  },
  {
   "cell_type": "code",
   "execution_count": 163,
   "metadata": {},
   "outputs": [],
   "source": [
    "# appliquer la fonction clean_data \n",
    "features = ['cast', 'keywords', 'director', 'genres']\n",
    "\n",
    "for feature in features:\n",
    "    df2[feature] = df2[feature].apply(clean_data)\n"
   ]
  },
  {
   "attachments": {},
   "cell_type": "markdown",
   "metadata": {},
   "source": [
    "\n",
    "Nous sommes maintenant en mesure de créer notre \"metadata soup\", qui est une chaîne de caractères contenant toutes les métadonnées que nous voulons fournir à notre vectoriseur (à savoir les acteurs, le réalisateur et les mots-clés)."
   ]
  },
  {
   "cell_type": "code",
   "execution_count": 164,
   "metadata": {},
   "outputs": [],
   "source": [
    "def create_soup(x):\n",
    "    return ' '.join(x['keywords']) + ' ' + ' '.join(x['cast']) + ' ' + x['director'] + ' ' + ' '.join(x['genres'])\n",
    "df2['soup'] = df2.apply(create_soup, axis=1)"
   ]
  },
  {
   "attachments": {},
   "cell_type": "markdown",
   "metadata": {},
   "source": [
    "Les prochaines étapes sont les mêmes que celles que nous avons suivies pour notre recommandeur basé sur la description du scénario. Une différence importante est que nous utilisons CountVectorizer() au lieu de TF-IDF. Cela s'explique par le fait que nous ne voulons pas réduire l'importance de la présence d'un acteur/réalisateur s'il a joué ou réalisé relativement plus de films. Cela n'a pas beaucoup de sens intuitif."
   ]
  },
  {
   "cell_type": "code",
   "execution_count": 165,
   "metadata": {},
   "outputs": [],
   "source": [
    "# Importer CountVectorizer et créer la count matrix\n",
    "from sklearn.feature_extraction.text import CountVectorizer\n",
    "\n",
    "count = CountVectorizer(stop_words='english')\n",
    "count_matrix = count.fit_transform(df2['soup'])"
   ]
  },
  {
   "cell_type": "code",
   "execution_count": 166,
   "metadata": {},
   "outputs": [],
   "source": [
    "# Calculer la matrice de similarité cosinus basée sur la count_matrix\n",
    "from sklearn.metrics.pairwise import cosine_similarity\n",
    "\n",
    "cosine_sim2 = cosine_similarity(count_matrix, count_matrix)"
   ]
  },
  {
   "cell_type": "code",
   "execution_count": 167,
   "metadata": {},
   "outputs": [],
   "source": [
    "# Réinitialiser l'index de notre DataFrame principal et construire une correspondance inversée comme précédemment\n",
    "df2 = df2.reset_index()\n",
    "indices = pd.Series(df2.index, index=df2['title'])"
   ]
  },
  {
   "attachments": {},
   "cell_type": "markdown",
   "metadata": {},
   "source": [
    "Nous pouvons maintenant réutiliser notre fonction get_recommendations() en passant la nouvelle matrice cosine_sim2 en tant que deuxième argument."
   ]
  },
  {
   "cell_type": "code",
   "execution_count": 168,
   "metadata": {},
   "outputs": [
    {
     "data": {
      "text/plain": [
       "65               The Dark Knight\n",
       "119                Batman Begins\n",
       "4638    Amidst the Devil's Wings\n",
       "1196                The Prestige\n",
       "3073           Romeo Is Bleeding\n",
       "3326              Black November\n",
       "1503                      Takers\n",
       "1986                      Faster\n",
       "303                     Catwoman\n",
       "747               Gangster Squad\n",
       "Name: title, dtype: object"
      ]
     },
     "execution_count": 168,
     "metadata": {},
     "output_type": "execute_result"
    }
   ],
   "source": [
    "get_recommendations('The Dark Knight Rises', cosine_sim2)\n"
   ]
  },
  {
   "cell_type": "code",
   "execution_count": 169,
   "metadata": {},
   "outputs": [
    {
     "data": {
      "text/plain": [
       "867      The Godfather: Part III\n",
       "2731      The Godfather: Part II\n",
       "4638    Amidst the Devil's Wings\n",
       "2649           The Son of No One\n",
       "1525              Apocalypse Now\n",
       "1018             The Cotton Club\n",
       "1170     The Talented Mr. Ripley\n",
       "1209               The Rainmaker\n",
       "1394               Donnie Brasco\n",
       "1850                    Scarface\n",
       "Name: title, dtype: object"
      ]
     },
     "execution_count": 169,
     "metadata": {},
     "output_type": "execute_result"
    }
   ],
   "source": [
    "get_recommendations('The Godfather', cosine_sim2)"
   ]
  },
  {
   "cell_type": "code",
   "execution_count": 170,
   "metadata": {},
   "outputs": [
    {
     "data": {
      "text/html": [
       "<div>\n",
       "<style scoped>\n",
       "    .dataframe tbody tr th:only-of-type {\n",
       "        vertical-align: middle;\n",
       "    }\n",
       "\n",
       "    .dataframe tbody tr th {\n",
       "        vertical-align: top;\n",
       "    }\n",
       "\n",
       "    .dataframe thead th {\n",
       "        text-align: right;\n",
       "    }\n",
       "</style>\n",
       "<table border=\"1\" class=\"dataframe\">\n",
       "  <thead>\n",
       "    <tr style=\"text-align: right;\">\n",
       "      <th></th>\n",
       "      <th>title</th>\n",
       "      <th>cast</th>\n",
       "      <th>keywords</th>\n",
       "      <th>genres</th>\n",
       "    </tr>\n",
       "  </thead>\n",
       "  <tbody>\n",
       "    <tr>\n",
       "      <th>0</th>\n",
       "      <td>Avatar</td>\n",
       "      <td>[samworthington, zoesaldana, sigourneyweaver]</td>\n",
       "      <td>[cultureclash, future, spacewar]</td>\n",
       "      <td>[action, adventure, fantasy]</td>\n",
       "    </tr>\n",
       "    <tr>\n",
       "      <th>1</th>\n",
       "      <td>Pirates of the Caribbean: At World's End</td>\n",
       "      <td>[johnnydepp, orlandobloom, keiraknightley]</td>\n",
       "      <td>[ocean, drugabuse, exoticisland]</td>\n",
       "      <td>[adventure, fantasy, action]</td>\n",
       "    </tr>\n",
       "    <tr>\n",
       "      <th>2</th>\n",
       "      <td>Spectre</td>\n",
       "      <td>[danielcraig, christophwaltz, léaseydoux]</td>\n",
       "      <td>[spy, basedonnovel, secretagent]</td>\n",
       "      <td>[action, adventure, crime]</td>\n",
       "    </tr>\n",
       "    <tr>\n",
       "      <th>3</th>\n",
       "      <td>The Dark Knight Rises</td>\n",
       "      <td>[christianbale, michaelcaine, garyoldman]</td>\n",
       "      <td>[dccomics, crimefighter, terrorist]</td>\n",
       "      <td>[action, crime, drama]</td>\n",
       "    </tr>\n",
       "    <tr>\n",
       "      <th>4</th>\n",
       "      <td>John Carter</td>\n",
       "      <td>[taylorkitsch, lynncollins, samanthamorton]</td>\n",
       "      <td>[basedonnovel, mars, medallion]</td>\n",
       "      <td>[action, adventure, sciencefiction]</td>\n",
       "    </tr>\n",
       "    <tr>\n",
       "      <th>...</th>\n",
       "      <td>...</td>\n",
       "      <td>...</td>\n",
       "      <td>...</td>\n",
       "      <td>...</td>\n",
       "    </tr>\n",
       "    <tr>\n",
       "      <th>4798</th>\n",
       "      <td>El Mariachi</td>\n",
       "      <td>[carlosgallardo, jaimedehoyos, petermarquardt]</td>\n",
       "      <td>[unitedstates–mexicobarrier, legs, arms]</td>\n",
       "      <td>[action, crime, thriller]</td>\n",
       "    </tr>\n",
       "    <tr>\n",
       "      <th>4799</th>\n",
       "      <td>Newlyweds</td>\n",
       "      <td>[edwardburns, kerrybishé, marshadietlein]</td>\n",
       "      <td>[]</td>\n",
       "      <td>[comedy, romance]</td>\n",
       "    </tr>\n",
       "    <tr>\n",
       "      <th>4800</th>\n",
       "      <td>Signed, Sealed, Delivered</td>\n",
       "      <td>[ericmabius, kristinbooth, crystallowe]</td>\n",
       "      <td>[date, loveatfirstsight, narration]</td>\n",
       "      <td>[comedy, drama, romance]</td>\n",
       "    </tr>\n",
       "    <tr>\n",
       "      <th>4801</th>\n",
       "      <td>Shanghai Calling</td>\n",
       "      <td>[danielhenney, elizacoupe, billpaxton]</td>\n",
       "      <td>[]</td>\n",
       "      <td>[]</td>\n",
       "    </tr>\n",
       "    <tr>\n",
       "      <th>4802</th>\n",
       "      <td>My Date with Drew</td>\n",
       "      <td>[drewbarrymore, brianherzlinger, coreyfeldman]</td>\n",
       "      <td>[obsession, camcorder, crush]</td>\n",
       "      <td>[documentary]</td>\n",
       "    </tr>\n",
       "  </tbody>\n",
       "</table>\n",
       "<p>4803 rows × 4 columns</p>\n",
       "</div>"
      ],
      "text/plain": [
       "                                         title  \\\n",
       "0                                       Avatar   \n",
       "1     Pirates of the Caribbean: At World's End   \n",
       "2                                      Spectre   \n",
       "3                        The Dark Knight Rises   \n",
       "4                                  John Carter   \n",
       "...                                        ...   \n",
       "4798                               El Mariachi   \n",
       "4799                                 Newlyweds   \n",
       "4800                 Signed, Sealed, Delivered   \n",
       "4801                          Shanghai Calling   \n",
       "4802                         My Date with Drew   \n",
       "\n",
       "                                                cast  \\\n",
       "0      [samworthington, zoesaldana, sigourneyweaver]   \n",
       "1         [johnnydepp, orlandobloom, keiraknightley]   \n",
       "2          [danielcraig, christophwaltz, léaseydoux]   \n",
       "3          [christianbale, michaelcaine, garyoldman]   \n",
       "4        [taylorkitsch, lynncollins, samanthamorton]   \n",
       "...                                              ...   \n",
       "4798  [carlosgallardo, jaimedehoyos, petermarquardt]   \n",
       "4799       [edwardburns, kerrybishé, marshadietlein]   \n",
       "4800         [ericmabius, kristinbooth, crystallowe]   \n",
       "4801          [danielhenney, elizacoupe, billpaxton]   \n",
       "4802  [drewbarrymore, brianherzlinger, coreyfeldman]   \n",
       "\n",
       "                                      keywords  \\\n",
       "0             [cultureclash, future, spacewar]   \n",
       "1             [ocean, drugabuse, exoticisland]   \n",
       "2             [spy, basedonnovel, secretagent]   \n",
       "3          [dccomics, crimefighter, terrorist]   \n",
       "4              [basedonnovel, mars, medallion]   \n",
       "...                                        ...   \n",
       "4798  [unitedstates–mexicobarrier, legs, arms]   \n",
       "4799                                        []   \n",
       "4800       [date, loveatfirstsight, narration]   \n",
       "4801                                        []   \n",
       "4802             [obsession, camcorder, crush]   \n",
       "\n",
       "                                   genres  \n",
       "0            [action, adventure, fantasy]  \n",
       "1            [adventure, fantasy, action]  \n",
       "2              [action, adventure, crime]  \n",
       "3                  [action, crime, drama]  \n",
       "4     [action, adventure, sciencefiction]  \n",
       "...                                   ...  \n",
       "4798            [action, crime, thriller]  \n",
       "4799                    [comedy, romance]  \n",
       "4800             [comedy, drama, romance]  \n",
       "4801                                   []  \n",
       "4802                        [documentary]  \n",
       "\n",
       "[4803 rows x 4 columns]"
      ]
     },
     "execution_count": 170,
     "metadata": {},
     "output_type": "execute_result"
    }
   ],
   "source": [
    "\n",
    "\n",
    "# Extraction des colonnes nécessaires pour la recommandation\n",
    "metadata = df2[['title', 'cast', 'keywords','genres']]\n",
    "\n",
    "# Remplissage des valeurs manquantes avec des chaînes vides\n",
    "metadata = metadata.fillna('')\n",
    "metadata\n"
   ]
  },
  {
   "cell_type": "code",
   "execution_count": 171,
   "metadata": {},
   "outputs": [],
   "source": [
    "# Fonction de conversion en minuscules et suppression des espaces\n",
    "def preprocess_string(s):\n",
    "    if isinstance(s, list):\n",
    "        return ' '.join(s).lower().strip()\n",
    "    else:\n",
    "        return str(s).lower().strip()\n"
   ]
  },
  {
   "cell_type": "code",
   "execution_count": 172,
   "metadata": {},
   "outputs": [],
   "source": [
    "# Prétraitement des colonnes de texte\n",
    "metadata['title'] = metadata['title'].apply(preprocess_string)\n",
    "metadata['cast'] = metadata['cast'].apply(preprocess_string)\n",
    "metadata['genres'] = metadata['genres'].apply(preprocess_string)\n",
    "metadata['keywords'] = metadata['keywords'].apply(preprocess_string)\n",
    "\n"
   ]
  },
  {
   "cell_type": "code",
   "execution_count": 173,
   "metadata": {},
   "outputs": [],
   "source": [
    "# Création de la colonne 'soup' contenant toutes les informations\n",
    "metadata['soup'] = metadata['cast'] + ' ' + metadata['keywords'] + ' ' + metadata['genres'] \n",
    "\n",
    "# Initialisation du vectoriseur\n",
    "vectorizer = CountVectorizer(stop_words='english')\n",
    "\n",
    "# Vectorisation de la colonne 'soup'\n",
    "soup_matrix = vectorizer.fit_transform(metadata['soup'])\n",
    "\n",
    "# Calcul de la similarité entre les films\n",
    "similarity_matrix = cosine_similarity(soup_matrix)\n",
    "\n"
   ]
  },
  {
   "cell_type": "code",
   "execution_count": 174,
   "metadata": {},
   "outputs": [],
   "source": [
    "# Fonction de recommandation\n",
    "def get_recommendations(movie_title, keywords=None, cast=None,genres=None, top_n=10):\n",
    "    movie_index = metadata[metadata['title'] == movie_title].index[0]\n",
    "    similarity_scores = list(enumerate(similarity_matrix[movie_index]))\n",
    "    similarity_scores = sorted(similarity_scores, key=lambda x: x[1], reverse=True)\n",
    "    top_movies = [metadata.iloc[idx]['title'] for idx, _ in similarity_scores[1:top_n+1]]\n",
    "    return top_movies\n",
    "\n"
   ]
  },
  {
   "cell_type": "code",
   "execution_count": 175,
   "metadata": {},
   "outputs": [
    {
     "name": "stdout",
     "output_type": "stream",
     "text": [
      "Recommended movies: ['clash of the titans', 'the mummy: tomb of the dragon emperor', 'the monkey king 2', \"the sorcerer's apprentice\", 'g-force', 'fantastic 4: rise of the silver surfer', 'the time machine', 'the scorpion king', \"pirates of the caribbean: at world's end\", 'spider-man 3']\n"
     ]
    }
   ],
   "source": [
    "# Exemple d'utilisation\n",
    "recommended_movies = get_recommendations('avatar', keywords='cultureclash, future, spacewar', cast='samworthington, zoesaldana, sigourneyweaver', genres='action, adventure, fantasy',top_n=10)\n",
    "print(\"Recommended movies:\", recommended_movies)\n"
   ]
  },
  {
   "cell_type": "code",
   "execution_count": 185,
   "metadata": {},
   "outputs": [],
   "source": [
    "import pickle\n",
    "df2\n",
    "df2.to_csv(\"../data/data.csv\")\n",
    "pickle.dump(vectorizer, open('model', 'wb'))"
   ]
  },
  {
   "cell_type": "code",
   "execution_count": 177,
   "metadata": {},
   "outputs": [],
   "source": [
    "from tensorflow.keras.models import Sequential\n",
    "from tensorflow.keras.layers import Dense\n",
    "from sklearn.preprocessing import LabelEncoder\n",
    "from sklearn.model_selection import train_test_split"
   ]
  },
  {
   "cell_type": "code",
   "execution_count": 178,
   "metadata": {},
   "outputs": [],
   "source": [
    "# Encodage des caractéristiques catégorielles\n",
    "label_encoder = LabelEncoder()\n",
    "df2['title_encoded'] = label_encoder.fit_transform(df2['title'])\n",
    "\n"
   ]
  },
  {
   "cell_type": "code",
   "execution_count": 179,
   "metadata": {},
   "outputs": [],
   "source": [
    "# Création des ensembles d'entraînement et de test\n",
    "X_train, X_test, y_train, y_test = train_test_split(df2['title_encoded'], df2['title_encoded'], test_size=0.2, random_state=42)\n",
    "\n"
   ]
  },
  {
   "cell_type": "code",
   "execution_count": 180,
   "metadata": {},
   "outputs": [],
   "source": [
    "# Construction du modèle de recommandation\n",
    "model = Sequential()\n",
    "model.add(Dense(64, activation='relu', input_shape=(1,)))\n",
    "model.add(Dense(64, activation='relu'))\n",
    "model.add(Dense(len(label_encoder.classes_), activation='softmax'))"
   ]
  },
  {
   "cell_type": "code",
   "execution_count": 181,
   "metadata": {},
   "outputs": [],
   "source": [
    "# Compilation du modèle\n",
    "model.compile(loss='sparse_categorical_crossentropy', optimizer='adam', metrics=['accuracy'])\n"
   ]
  },
  {
   "cell_type": "code",
   "execution_count": 182,
   "metadata": {},
   "outputs": [
    {
     "name": "stdout",
     "output_type": "stream",
     "text": [
      "Epoch 1/10\n",
      "121/121 [==============================] - 10s 43ms/step - loss: 26.2335 - accuracy: 0.0000e+00 - val_loss: 8.5466 - val_accuracy: 0.0000e+00\n",
      "Epoch 2/10\n",
      "121/121 [==============================] - 4s 35ms/step - loss: 8.4537 - accuracy: 0.0000e+00 - val_loss: 8.6571 - val_accuracy: 0.0000e+00\n",
      "Epoch 3/10\n",
      "121/121 [==============================] - 2s 20ms/step - loss: 8.4315 - accuracy: 0.0000e+00 - val_loss: 8.7567 - val_accuracy: 0.0000e+00\n",
      "Epoch 4/10\n",
      "121/121 [==============================] - 2s 21ms/step - loss: 8.4180 - accuracy: 5.2056e-04 - val_loss: 8.8510 - val_accuracy: 0.0000e+00\n",
      "Epoch 5/10\n",
      "121/121 [==============================] - 2s 21ms/step - loss: 8.4001 - accuracy: 5.2056e-04 - val_loss: 8.9414 - val_accuracy: 0.0000e+00\n",
      "Epoch 6/10\n",
      "121/121 [==============================] - 2s 20ms/step - loss: 8.3867 - accuracy: 5.2056e-04 - val_loss: 9.0287 - val_accuracy: 0.0000e+00\n",
      "Epoch 7/10\n",
      "121/121 [==============================] - 3s 21ms/step - loss: 8.3756 - accuracy: 7.8084e-04 - val_loss: 9.1132 - val_accuracy: 0.0000e+00\n",
      "Epoch 8/10\n",
      "121/121 [==============================] - 2s 21ms/step - loss: 8.3656 - accuracy: 7.8084e-04 - val_loss: 9.1953 - val_accuracy: 0.0000e+00\n",
      "Epoch 9/10\n",
      "121/121 [==============================] - 2s 21ms/step - loss: 8.3606 - accuracy: 7.8084e-04 - val_loss: 9.2751 - val_accuracy: 0.0000e+00\n",
      "Epoch 10/10\n",
      "121/121 [==============================] - 2s 21ms/step - loss: 8.3655 - accuracy: 7.8084e-04 - val_loss: 9.3527 - val_accuracy: 0.0000e+00\n"
     ]
    },
    {
     "data": {
      "text/plain": [
       "<keras.callbacks.History at 0x19a7921c0d0>"
      ]
     },
     "execution_count": 182,
     "metadata": {},
     "output_type": "execute_result"
    }
   ],
   "source": [
    "# Entraînement du modèle\n",
    "model.fit(X_train, y_train, epochs=10, batch_size=32, validation_data=(X_test, y_test))\n"
   ]
  },
  {
   "cell_type": "code",
   "execution_count": 183,
   "metadata": {},
   "outputs": [],
   "source": [
    "# Utilisation du modèle pour les recommandations\n",
    "def get_recommendations(movie_title):\n",
    "    encoded_title = label_encoder.transform([movie_title.lower().strip()])\n",
    "    predictions = model.predict(encoded_title)\n",
    "    top_n_indices = predictions.argsort()[0][-10:][::-1]\n",
    "    top_n_movies = label_encoder.inverse_transform(top_n_indices)\n",
    "    return top_n_movies.tolist()\n"
   ]
  },
  {
   "cell_type": "code",
   "execution_count": 184,
   "metadata": {},
   "outputs": [
    {
     "name": "stdout",
     "output_type": "stream",
     "text": [
      "Unexpected exception formatting exception. Falling back to standard exception\n"
     ]
    },
    {
     "name": "stderr",
     "output_type": "stream",
     "text": [
      "Traceback (most recent call last):\n",
      "  File \"c:\\Users\\nicol\\anaconda3\\lib\\site-packages\\sklearn\\utils\\_encode.py\", line 182, in _encode\n",
      "    ret = (uniques,)\n",
      "  File \"c:\\Users\\nicol\\anaconda3\\lib\\site-packages\\sklearn\\utils\\_encode.py\", line 126, in _map_to_integer\n",
      "  File \"c:\\Users\\nicol\\anaconda3\\lib\\site-packages\\sklearn\\utils\\_encode.py\", line 126, in <listcomp>\n",
      "  File \"c:\\Users\\nicol\\anaconda3\\lib\\site-packages\\sklearn\\utils\\_encode.py\", line 120, in __missing__\n",
      "    missing_values: MissingValues\n",
      "KeyError: 'avatar'\n",
      "\n",
      "During handling of the above exception, another exception occurred:\n",
      "\n",
      "Traceback (most recent call last):\n",
      "  File \"c:\\Users\\nicol\\anaconda3\\lib\\site-packages\\IPython\\core\\interactiveshell.py\", line 3369, in run_code\n",
      "    exec(code_obj, self.user_global_ns, self.user_ns)\n",
      "  File \"C:\\Users\\nicol\\AppData\\Local\\Temp\\ipykernel_18384\\3290133784.py\", line 2, in <cell line: 2>\n",
      "    recommended_movies = get_recommendations('Avatar')\n",
      "  File \"C:\\Users\\nicol\\AppData\\Local\\Temp\\ipykernel_18384\\3705954296.py\", line 3, in get_recommendations\n",
      "    encoded_title = label_encoder.transform([movie_title.lower().strip()])\n",
      "  File \"c:\\Users\\nicol\\anaconda3\\lib\\site-packages\\sklearn\\preprocessing\\_label.py\", line 138, in transform\n",
      "  File \"c:\\Users\\nicol\\anaconda3\\lib\\site-packages\\sklearn\\utils\\_encode.py\", line 184, in _encode\n",
      "    if return_inverse:\n",
      "ValueError: y contains previously unseen labels: 'avatar'\n",
      "\n",
      "During handling of the above exception, another exception occurred:\n",
      "\n",
      "Traceback (most recent call last):\n",
      "  File \"c:\\Users\\nicol\\anaconda3\\lib\\site-packages\\IPython\\core\\interactiveshell.py\", line 1982, in showtraceback\n",
      "    stb = self.InteractiveTB.structured_traceback(\n",
      "  File \"c:\\Users\\nicol\\anaconda3\\lib\\site-packages\\IPython\\core\\ultratb.py\", line 1118, in structured_traceback\n",
      "    return FormattedTB.structured_traceback(\n",
      "  File \"c:\\Users\\nicol\\anaconda3\\lib\\site-packages\\IPython\\core\\ultratb.py\", line 1012, in structured_traceback\n",
      "    return VerboseTB.structured_traceback(\n",
      "  File \"c:\\Users\\nicol\\anaconda3\\lib\\site-packages\\IPython\\core\\ultratb.py\", line 865, in structured_traceback\n",
      "    formatted_exception = self.format_exception_as_a_whole(etype, evalue, etb, number_of_lines_of_context,\n",
      "  File \"c:\\Users\\nicol\\anaconda3\\lib\\site-packages\\IPython\\core\\ultratb.py\", line 818, in format_exception_as_a_whole\n",
      "    frames.append(self.format_record(r))\n",
      "  File \"c:\\Users\\nicol\\anaconda3\\lib\\site-packages\\IPython\\core\\ultratb.py\", line 736, in format_record\n",
      "    result += ''.join(_format_traceback_lines(frame_info.lines, Colors, self.has_colors, lvals))\n",
      "  File \"c:\\Users\\nicol\\anaconda3\\lib\\site-packages\\stack_data\\utils.py\", line 145, in cached_property_wrapper\n",
      "    value = obj.__dict__[self.func.__name__] = self.func(obj)\n",
      "  File \"c:\\Users\\nicol\\anaconda3\\lib\\site-packages\\stack_data\\core.py\", line 698, in lines\n",
      "    pieces = self.included_pieces\n",
      "  File \"c:\\Users\\nicol\\anaconda3\\lib\\site-packages\\stack_data\\utils.py\", line 145, in cached_property_wrapper\n",
      "    value = obj.__dict__[self.func.__name__] = self.func(obj)\n",
      "  File \"c:\\Users\\nicol\\anaconda3\\lib\\site-packages\\stack_data\\core.py\", line 649, in included_pieces\n",
      "    pos = scope_pieces.index(self.executing_piece)\n",
      "  File \"c:\\Users\\nicol\\anaconda3\\lib\\site-packages\\stack_data\\utils.py\", line 145, in cached_property_wrapper\n",
      "    value = obj.__dict__[self.func.__name__] = self.func(obj)\n",
      "  File \"c:\\Users\\nicol\\anaconda3\\lib\\site-packages\\stack_data\\core.py\", line 628, in executing_piece\n",
      "    return only(\n",
      "  File \"c:\\Users\\nicol\\anaconda3\\lib\\site-packages\\executing\\executing.py\", line 164, in only\n",
      "    raise NotOneValueFound('Expected one value, found 0')\n",
      "executing.executing.NotOneValueFound: Expected one value, found 0\n"
     ]
    }
   ],
   "source": [
    "# Exemple d'utilisation\n",
    "recommended_movies = get_recommendations('Avatar')\n",
    "print(\"Recommended movies:\", recommended_movies)\n"
   ]
  }
 ],
 "metadata": {
  "kernelspec": {
   "display_name": "Python 3.9.12 ('base')",
   "language": "python",
   "name": "python3"
  },
  "language_info": {
   "codemirror_mode": {
    "name": "ipython",
    "version": 3
   },
   "file_extension": ".py",
   "mimetype": "text/x-python",
   "name": "python",
   "nbconvert_exporter": "python",
   "pygments_lexer": "ipython3",
   "version": "3.9.12"
  },
  "orig_nbformat": 4,
  "vscode": {
   "interpreter": {
    "hash": "07878c45a9b18549480ac2f9ecb8f16bb7162456cf654f6757bcff1d6396abe7"
   }
  }
 },
 "nbformat": 4,
 "nbformat_minor": 2
}
